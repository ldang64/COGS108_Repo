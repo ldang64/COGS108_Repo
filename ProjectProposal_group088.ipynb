{
 "cells": [
  {
   "cell_type": "markdown",
   "metadata": {},
   "source": [
    "# COGS 108 - Final Project Proposal"
   ]
  },
  {
   "cell_type": "markdown",
   "metadata": {},
   "source": [
    "# Names\n",
    "\n",
    "- Lisa Dang\n",
    "- Danny Ha\n",
    "- Justin Le\n",
    "- Destynee Tau\n",
    "- Pauline Thach\n"
   ]
  },
  {
   "cell_type": "markdown",
   "metadata": {},
   "source": [
    "# Research Question"
   ]
  },
  {
   "cell_type": "markdown",
   "metadata": {},
   "source": [
    "How do a person’s racial background and personal qualities affect their desirability as a potential partner? Do similar interests and traits make better first impressions and increase the likelihood of attraction?"
   ]
  },
  {
   "cell_type": "markdown",
   "metadata": {},
   "source": [
    "## Background and Prior Work"
   ]
  },
  {
   "cell_type": "markdown",
   "metadata": {},
   "source": [
    "As college students, most of us are not unfamiliar with the idea of dating whether we’ve experienced it first-hand or seen it with our friends and family. However, dating, itself, is not a universally shared experience as different people have different attributes for what they look for in a significant other. Some attributes include attractiveness, sincerity, intelligence, fun, ambition, and shared interests. \n",
    "\n",
    "In Western culture, dating is usually seen as a period where “people engage in informal and often polygamous relationships” [1] where people try to find someone that they deem fit and compatible enough to settle down with. Nevertheless, every dating experience is different since there are many variables that come into play when it comes to dating. So, we wanted to look more into how personal qualities affect one’s desirability as a potential partner and how attraction comes into play when similar interests or traits are introduced to one another. \n",
    "\n",
    "Most of the studies conducted to test attraction are well-controlled experiments which raises the concern for a lack of ecological validity [3, 4]. However, Ray Fisman and Sheena Iyengar’s speed dating experiment combats that concern. Their speed-dating scenario provides experimental control yet also gives data on decisions made in a setting that mimics real world scenarios [1]. Therefore, we decided to use data from their experiment as we deemed it was the best fit experiment for our research question. From other previous speed-dating studies, there’s been a consistent finding in how the strongest predictor of attraction was physical attractiveness which is seen across both sexes [3]. \n",
    "\n",
    "These research papers have led us to explore the idea of romantic attraction and how so many different variables come into play. Attraction is multi-dimensional and we want to study short-term and long-term to see if there’s a difference in attraction between people who are seeking ideal partners and people who aren’t necessarily looking to settle down yet. We believe that by exploring our research topic, we will have a better understanding of why certain dating preferences may exist. \n",
    "\n",
    "References:\n",
    "- [1]: Gender Differences in Mate Selection\n",
    "https://pdfs.semanticscholar.org/c51b/e9f818f0ecff3e705f0f7d35ccd748bae3ae.pdf?_ga=2.14097586.401217499.1611810866-1263278245.1611810866\n",
    "\n",
    "- [2]: Racial Preferences in Dating\n",
    "https://www0.gsb.columbia.edu/mygsb/faculty/research/pubfiles/866/racialPreferences.pdf\n",
    "\n",
    "- [3]: What Leads to Romantic Attraction: Similarity, Reciprocity, Security, or Beauty?\n",
    "https://www.researchgate.net/publication/26322693_What_Leads_to_Romantic_Attraction_Similarity_Reciprocity_Security_or_Beauty_Evidence_From_a_Speed-Dating_Study\n",
    "\n",
    "- [4]: Perceived Similarity Predicts Initial Attraction in a Romantic Context\n",
    "https://faculty.wcas.northwestern.edu/eli-finkel/documents/InPress_TidwellEastwickFinkel_PersonalRelationships_000.pdf"
   ]
  },
  {
   "cell_type": "markdown",
   "metadata": {},
   "source": [
    "# Hypothesis\n"
   ]
  },
  {
   "cell_type": "markdown",
   "metadata": {},
   "source": [
    "We hypothesize that when it comes to meeting potential partners, desirability from the first impression stems from a person’s physical attractiveness and similar traits. We believe that physical attractiveness is the first thing partners look at because one of the principles of social psychology regarding initial attraction states that finding someone attractive is one of the first stages of wanting to develop a romantic relationship. Furthermore, previous studies have shown that similar traits would boost desirability."
   ]
  },
  {
   "cell_type": "markdown",
   "metadata": {},
   "source": [
    "# Data"
   ]
  },
  {
   "cell_type": "markdown",
   "metadata": {},
   "source": [
    "We will be analyzing data obtained from a speed dating study conducted by Columbia Business School professors, Ray Fisman and Sheena Iyengar, who wanted to observe the individual decisions that went into selecting a possible mate:\n",
    "\n",
    "<br>Gender Differences in Mate Selection: Evidence From a Speed Dating Experiment\n",
    "<br>Source: http://www.stat.columbia.edu/~gelman/arm/examples/speed.dating/\n",
    "<br>Open in .xlsx / .csv: https://docs.google.com/spreadsheets/d/1mRUc5uxDuC8OxIeBv9rv8drtHGdE2I7dVLltpCr20yI/edit?usp=sharing\n",
    "<br>Number of observations: ~ 8,000 adults\n",
    "<br>Variables: Attractiveness, sincerity, fun, ambition, intelligence, shared interests, racial/ethnic background\n",
    "<br>Method: Data was collected from students at Columbia University recruited by e-mails and fliers. Trials took place during speed dating events held at popular restaurants near campus. Participants would rank certain attributes of their dates on paper and determine if they would be a match.\n",
    "\n",
    "<br>This dataset has over 8,000 observations gathered over a course of two years (2002-2004). In this experiment, participants at Columbia University were asked to sign up for various Speed Dating events taking place at bars and restaurants near campus. To keep the environmental setting constant, trials at each location kept the same table arrangements, music, and lighting to reduce external factors from influencing outcomes. \n",
    "\n",
    "<br>The study provided us with approximately 200 data points for each observation in relation to each participant’s racial background, field of study, and interests. Using this information, our group will be able to answer our research questions on whether certain qualities of a person and similarities increase the likelihood of finding a match. For this particular dataset, we will be reducing the amount of data points set out for us so that we can simplify the data and focus on traits of greater importance to our research. For instance, we can remove variables that include income, zip code, tuition, and etc. for variables that we want to delve into for our question and hypothesis such as race, career, activities, and field of study. \n",
    "\n",
    "<br>The second dataset we will be analyzing will be from a study conducted by Michael Rosenfeld, Reuben Thomas and Sonia Hausen of Stanford's Institute for Research in the Social Sciences:\n",
    "\n",
    "<br>How Couples Meet and Stay Together\n",
    "<br>Source: https://data.stanford.edu/hcmst2017\n",
    "<br>Open in .xlsx / .csv: https://docs.google.com/spreadsheets/d/1Y9FRJbRA_ZUTN8dPNLDMm6zu5qHw2Z0RpVKU-o9MZ1M/edit?usp=sharing\n",
    "<br>Number of observations: ~ 3,500 adults\n",
    "<br>Variables: Racial/ethnic background, education, political party affiliation, friend connection, dating apps, religious views\n",
    "<br>Method: Data was collected using the GfK Group who provide online research through the system, KnowledgePanel®. With this panel, participants were chosen at random in the United States population to become panelists for research. If panelists agreed to being contacted, they would be sent an email that would redirect them to web questionnaires to fill out at a scheduled time of their choosing. \n",
    "\n",
    "<br>In this data, there were approximately 3,500 observations from American adults. This study was conducted for a month (July 2017 to August 2017) to learn about how couples meet. To ensure a large study sample would be obtained in a month, the principal investigators partnered with the survey company, GfK Group, to help obtain information from probability‐based sampling techniques for participant recruitment. Once participants are recruited and profiled by the Core Profile Survey, they are assigned one survey per week with a duration of 10 to 15 minutes. If responses were not made at the scheduled time, email reminders are sent out after three days.\n",
    "\n",
    "<br>This dataset contains data points from about 2,860 individuals with partners and 541 who’ve had past partners. Several variables were considered when providing participants with questions such as their age, racial background, education status, household size, and income. In order to address our research question on what qualities attract potential partners, we will be omitting data on household and marital status and focusing on traits sought for normally during first dates. These include racial background, education level, career, and religious and political preferences.\n"
   ]
  },
  {
   "cell_type": "markdown",
   "metadata": {},
   "source": [
    "# Ethics & Privacy"
   ]
  },
  {
   "cell_type": "markdown",
   "metadata": {},
   "source": [
    "Informed consent for the Speed Dating study was gathered when participants registered at an online website and filled out a pre-event survey. Participants were not permitted access to any other participants’ contact information prior to the start of the study and were only released if a matched pairing both accepted wanting to meet each other again. In this case, both sides of the pairing would have to express their consent to the team conducting the experiment. In terms of personally identifiable information such as name, email addresses, and school ID numbers, all remained anonymous throughout the experiment. In order to identify individual participants during the trials, each was given a name tag with a unique ID number. To ensure response anonymity, participants were given clipboards and scorecards with covers over them so that they could record their ratings in privacy.\n",
    "\n",
    "<br>For the Couples Meeting experiment, consent was obtained when participants accepted the invitation to be a part of KnowledgePanel®. Emails provided when signing up were kept confidential and only accessible by those on the GfK Group involved within study. When notifications containing links to the questionnaires were sent out, no logins or passwords were required to limit disclosure of possible personal information. Information contained in these surveys are non-public and only used for company purposes according to Global Information Security and Global Legal & Compliance. Contact information, such as residential addresses, phone numbers, or e-mail addresses are all protected by GfK until their secure disposal."
   ]
  },
  {
   "cell_type": "markdown",
   "metadata": {},
   "source": [
    "# Team Expectations "
   ]
  },
  {
   "cell_type": "markdown",
   "metadata": {},
   "source": [
    "* Have weekly meetings to ensure that everyone is doing their part of the project and everyone must attend (if a member cannot attend, they must notify us beforehand) \n",
    "* Everyone must contribute to the project in their own way (writing, coding, etc.) \n",
    "* Complete assigned tasks by weekly meetings or by soft deadlines when set\n",
    "* If a member cannot complete their tasks due to lack of skill, ask another member for help but would have to make up for their task with another task \n",
    "* Respect other team members and their ideas\n",
    "* Proofread all of our documents before submitting and provide feedback \n"
   ]
  },
  {
   "cell_type": "markdown",
   "metadata": {},
   "source": [
    "# Project Timeline Proposal"
   ]
  },
  {
   "cell_type": "markdown",
   "metadata": {},
   "source": [
    "| Meeting Date  | Meeting Time| Completed Before Meeting  | Discuss at Meeting |\n",
    "|---|---|---|---|\n",
    "| 1/24  |  8 PM | Read & Think about COGS 108 expectations; brainstorm topics/questions  | Determine best form of communication; Discuss and decide on final project topic; discuss hypothesis; begin background research | \n",
    "| 1/27  |  10PM |  Do background research on topic | Discuss ideal dataset(s) and ethics; draft project proposal | \n",
    "| 1/29  | 10 AM  | Edit, finalize, and submit proposal; Search for datasets  | Discuss Wrangling and possible analytical approaches; Assign group members to lead each specific part   |\n",
    "| 2/01  | 10 AM  | Project setup  | Possible additional changes to the setup  |\n",
    "| 2/08  | 6 PM  | Import & Wrangle Data, EDA) | Review/Edit wrangling/EDA; Discuss Analysis Plan   |\n",
    "| 2/15  | 6 PM  | Coding  | Discuss/edit Analysis; Complete project check-in |\n",
    "| 2/22  | 6 PM  | Data Analysis | Error checking |\n",
    "| 3/01  | 6 PM  | Descriptive section| Spellcheck & Proofread |\n",
    "| 3/08  | 6 PM  | Summary and Conclusion | Discuss/edit full project |\n",
    "| 3/17  | Before 11:59 PM  | NA | Turn in Final Project & Group Project Surveys |"
   ]
  },
  {
   "cell_type": "code",
   "execution_count": null,
   "metadata": {},
   "outputs": [],
   "source": []
  }
 ],
 "metadata": {
  "kernelspec": {
   "display_name": "Python 3",
   "language": "python",
   "name": "python3"
  },
  "language_info": {
   "codemirror_mode": {
    "name": "ipython",
    "version": 3
   },
   "file_extension": ".py",
   "mimetype": "text/x-python",
   "name": "python",
   "nbconvert_exporter": "python",
   "pygments_lexer": "ipython3",
   "version": "3.7.6"
  }
 },
 "nbformat": 4,
 "nbformat_minor": 2
}
